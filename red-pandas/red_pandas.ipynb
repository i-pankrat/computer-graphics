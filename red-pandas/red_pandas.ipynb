{
  "nbformat": 4,
  "nbformat_minor": 0,
  "metadata": {
    "colab": {
      "provenance": [],
      "gpuType": "T4",
      "collapsed_sections": [
        "iOwDot-w6wN6",
        "q2MIBB6G7v6L"
      ]
    },
    "kernelspec": {
      "name": "python3",
      "display_name": "Python 3"
    },
    "language_info": {
      "name": "python"
    },
    "accelerator": "GPU"
  },
  "cells": [
    {
      "cell_type": "markdown",
      "source": [
        "# Prepare and check environment"
      ],
      "metadata": {
        "id": "iOwDot-w6wN6"
      }
    },
    {
      "cell_type": "markdown",
      "source": [
        "Check that nvidia GPU is ready"
      ],
      "metadata": {
        "id": "EUOZxBgc7ICj"
      }
    },
    {
      "cell_type": "code",
      "execution_count": null,
      "metadata": {
        "colab": {
          "base_uri": "https://localhost:8080/"
        },
        "id": "VTp1UaNj35XZ",
        "outputId": "d32de8ea-a3b3-4124-9c7a-5f24b146e235"
      },
      "outputs": [
        {
          "output_type": "stream",
          "name": "stdout",
          "text": [
            "Wed Dec 20 17:58:37 2023       \n",
            "+---------------------------------------------------------------------------------------+\n",
            "| NVIDIA-SMI 535.104.05             Driver Version: 535.104.05   CUDA Version: 12.2     |\n",
            "|-----------------------------------------+----------------------+----------------------+\n",
            "| GPU  Name                 Persistence-M | Bus-Id        Disp.A | Volatile Uncorr. ECC |\n",
            "| Fan  Temp   Perf          Pwr:Usage/Cap |         Memory-Usage | GPU-Util  Compute M. |\n",
            "|                                         |                      |               MIG M. |\n",
            "|=========================================+======================+======================|\n",
            "|   0  Tesla T4                       Off | 00000000:00:04.0 Off |                    0 |\n",
            "| N/A   62C    P8              10W /  70W |      0MiB / 15360MiB |      0%      Default |\n",
            "|                                         |                      |                  N/A |\n",
            "+-----------------------------------------+----------------------+----------------------+\n",
            "                                                                                         \n",
            "+---------------------------------------------------------------------------------------+\n",
            "| Processes:                                                                            |\n",
            "|  GPU   GI   CI        PID   Type   Process name                            GPU Memory |\n",
            "|        ID   ID                                                             Usage      |\n",
            "|=======================================================================================|\n",
            "|  No running processes found                                                           |\n",
            "+---------------------------------------------------------------------------------------+\n"
          ]
        }
      ],
      "source": [
        "!nvidia-smi"
      ]
    },
    {
      "cell_type": "markdown",
      "source": [
        "Install ultralytics and check it"
      ],
      "metadata": {
        "id": "G5hTcz7B7dxJ"
      }
    },
    {
      "cell_type": "code",
      "source": [
        "!pip install ultralytics\n",
        "!clear\n",
        "\n",
        "import ultralytics\n",
        "ultralytics.checks()"
      ],
      "metadata": {
        "id": "9zMZdFuH7NxT",
        "colab": {
          "base_uri": "https://localhost:8080/"
        },
        "outputId": "235f6d39-aaeb-407a-8565-35621005f37a"
      },
      "execution_count": null,
      "outputs": [
        {
          "output_type": "stream",
          "name": "stdout",
          "text": [
            "Ultralytics YOLOv8.0.228 🚀 Python-3.10.12 torch-2.1.0+cu121 CUDA:0 (Tesla T4, 15102MiB)\n",
            "Setup complete ✅ (2 CPUs, 12.7 GB RAM, 26.3/78.2 GB disk)\n"
          ]
        }
      ]
    },
    {
      "cell_type": "markdown",
      "source": [
        "# Prepare dataset"
      ],
      "metadata": {
        "id": "q2MIBB6G7v6L"
      }
    },
    {
      "cell_type": "markdown",
      "source": [
        "Download dataset from google drive and then extract it."
      ],
      "metadata": {
        "id": "lASAOkHYACot"
      }
    },
    {
      "cell_type": "code",
      "source": [
        "from google.colab import drive\n",
        "drive.mount('/content/gdrive')\n",
        "\n",
        "!echo \"Copying dataset...\"\n",
        "!cp /content/gdrive/MyDrive/Datasets/panda-data.tar.xz .\n",
        "!echo \"Umount google drive...\"\n",
        "drive.flush_and_unmount()\n",
        "!echo \"Dataset was copied:\"\n",
        "!ls\n",
        "\n",
        "!echo \"Extracting dataset...\"\n",
        "!tar -xf panda-data.tar.xz\n",
        "!echo \"Dataset was extracted:\"\n",
        "!ls panda-data"
      ],
      "metadata": {
        "colab": {
          "base_uri": "https://localhost:8080/"
        },
        "id": "CqgyVe0F714f",
        "outputId": "5933febb-ab69-437a-fab7-532cb99c2ab7"
      },
      "execution_count": null,
      "outputs": [
        {
          "output_type": "stream",
          "name": "stdout",
          "text": [
            "Mounted at /content/gdrive\n",
            "Copying dataset...\n",
            "Umount google drive...\n",
            "Dataset was copied:\n",
            "panda-data.tar.xz\n",
            "Extracting dataset...\n",
            "Dataset was extracted:\n",
            "hand-testing  panda-dataset\n"
          ]
        }
      ]
    },
    {
      "cell_type": "markdown",
      "source": [
        "# See dataset content\n",
        "\n",
        "`panda-data` folder contains two folder: hand-testing and panda-dataset. The dataset consists of three folders: `train`, `val` and `test`. The first one contains images for training the neural network, the second one for validation, and the last one for testing.  The dataset is in a format that YOLA8 understands: https://docs.ultralytics.com/datasets/classify/#dataset-format.\n",
        "\n",
        "There are a total of two classes of images in this model: images with a red panda and images without a red panda. Images in the folders `test`, `val`, `train` are not repeated."
      ],
      "metadata": {
        "id": "tCbBLRKYAQYJ"
      }
    },
    {
      "cell_type": "markdown",
      "source": [
        "Count images at different folders:"
      ],
      "metadata": {
        "id": "4f0q7Ri6GLrK"
      }
    },
    {
      "cell_type": "code",
      "source": [
        "import os\n",
        "\n",
        "DATASET_PATH = os.path.join(\"panda-data\", \"panda-dataset\")\n",
        "\n",
        "def count_files_at_classes(path_to_folder: str) -> dict:\n",
        "  res = {}\n",
        "  for dir in os.listdir(path_to_folder):\n",
        "    curr_dir_path = os.path.join(path_to_folder, dir)\n",
        "    if os.path.isdir(curr_dir_path):\n",
        "      res[dir] = len([file for file in os.listdir(curr_dir_path) if os.path.isfile(os.path.join(curr_dir_path, file))])\n",
        "\n",
        "  return res\n",
        "\n",
        "def count_files(path_to_dataset: str) -> dict:\n",
        "  res = {}\n",
        "  for dir in os.listdir(path_to_dataset):\n",
        "    curr_dir_path = os.path.join(path_to_dataset, dir)\n",
        "    if os.path.isdir(curr_dir_path):\n",
        "      res[dir] = count_files_at_classes(curr_dir_path)\n",
        "\n",
        "  return res\n",
        "\n",
        "print(\"Number of files:\")\n",
        "for folder_type, classes in count_files(DATASET_PATH).items():\n",
        "  print(folder_type)\n",
        "  for _class, _number in classes.items():\n",
        "    print(\"\\t{}: {}\".format(_class, _number))"
      ],
      "metadata": {
        "id": "nKVA2MpwA5YI",
        "colab": {
          "base_uri": "https://localhost:8080/"
        },
        "outputId": "6018b6a6-5e46-43ee-c988-a1334581de80"
      },
      "execution_count": null,
      "outputs": [
        {
          "output_type": "stream",
          "name": "stdout",
          "text": [
            "Number of files:\n",
            "train\n",
            "\tno-red-panda: 2575\n",
            "\tred-panda: 1006\n",
            "test\n",
            "\tno-red-panda: 48\n",
            "\tred-panda: 100\n",
            "val\n",
            "\tno-red-panda: 291\n",
            "\tred-panda: 276\n"
          ]
        }
      ]
    },
    {
      "cell_type": "markdown",
      "source": [
        "The images described above are used to train the neural network and test it using the features provided by YOLA8. In addition, there is a folder `hand-testing` containing images for my own testing of image identification in various animal photos."
      ],
      "metadata": {
        "id": "2AEyWUyWaLQ3"
      }
    },
    {
      "cell_type": "markdown",
      "source": [
        "#Train neural network"
      ],
      "metadata": {
        "id": "BMxu7gfyF9Vx"
      }
    },
    {
      "cell_type": "code",
      "source": [
        "!echo \"Clear previous run\"\n",
        "!rm -rf runs"
      ],
      "metadata": {
        "colab": {
          "base_uri": "https://localhost:8080/"
        },
        "id": "rGftEh_VeRlj",
        "outputId": "e688be9c-5e22-4e82-e33d-23f21fdb4a68"
      },
      "execution_count": 9,
      "outputs": [
        {
          "output_type": "stream",
          "name": "stdout",
          "text": [
            "Clear previous run\n"
          ]
        }
      ]
    },
    {
      "cell_type": "markdown",
      "source": [
        "Dataset is prepared in format which YOLA expects.\n",
        "\n",
        "The parameters chosen to train the neural network were determined empirically."
      ],
      "metadata": {
        "id": "IQdZhnpbGhcP"
      }
    },
    {
      "cell_type": "code",
      "source": [
        "import os\n",
        "from ultralytics import YOLO\n",
        "\n",
        "# Load model\n",
        "model = YOLO(\"yolov8n-cls.pt\")\n",
        "\n",
        "# Train model on dataset\n",
        "trained_model = model.train(data=DATASET_PATH, epochs=20, imgsz=64)"
      ],
      "metadata": {
        "colab": {
          "base_uri": "https://localhost:8080/"
        },
        "id": "YaZWqB-zGBEf",
        "outputId": "b4e613f1-2696-4b8f-c7c5-aa319a281a40"
      },
      "execution_count": 10,
      "outputs": [
        {
          "output_type": "stream",
          "name": "stdout",
          "text": [
            "Ultralytics YOLOv8.0.228 🚀 Python-3.10.12 torch-2.1.0+cu121 CUDA:0 (Tesla T4, 15102MiB)\n",
            "\u001b[34m\u001b[1mengine/trainer: \u001b[0mtask=classify, mode=train, model=yolov8n-cls.pt, data=panda-data/panda-dataset, epochs=20, time=None, patience=50, batch=16, imgsz=64, save=True, save_period=-1, cache=False, device=None, workers=8, project=None, name=train, exist_ok=False, pretrained=True, optimizer=auto, verbose=True, seed=0, deterministic=True, single_cls=False, rect=False, cos_lr=False, close_mosaic=10, resume=False, amp=True, fraction=1.0, profile=False, freeze=None, overlap_mask=True, mask_ratio=4, dropout=0.0, val=True, split=val, save_json=False, save_hybrid=False, conf=None, iou=0.7, max_det=300, half=False, dnn=False, plots=True, source=None, vid_stride=1, stream_buffer=False, visualize=False, augment=False, agnostic_nms=False, classes=None, retina_masks=False, show=False, save_frames=False, save_txt=False, save_conf=False, save_crop=False, show_labels=True, show_conf=True, show_boxes=True, line_width=None, format=torchscript, keras=False, optimize=False, int8=False, dynamic=False, simplify=False, opset=None, workspace=4, nms=False, lr0=0.01, lrf=0.01, momentum=0.937, weight_decay=0.0005, warmup_epochs=3.0, warmup_momentum=0.8, warmup_bias_lr=0.1, box=7.5, cls=0.5, dfl=1.5, pose=12.0, kobj=1.0, label_smoothing=0.0, nbs=64, hsv_h=0.015, hsv_s=0.7, hsv_v=0.4, degrees=0.0, translate=0.1, scale=0.5, shear=0.0, perspective=0.0, flipud=0.0, fliplr=0.5, mosaic=1.0, mixup=0.0, copy_paste=0.0, cfg=None, tracker=botsort.yaml, save_dir=runs/classify/train\n",
            "\u001b[34m\u001b[1mtrain:\u001b[0m /content/panda-data/panda-dataset/train... found 3581 images in 2 classes ✅ \n",
            "\u001b[34m\u001b[1mval:\u001b[0m /content/panda-data/panda-dataset/val... found 567 images in 2 classes ✅ \n",
            "\u001b[34m\u001b[1mtest:\u001b[0m /content/panda-data/panda-dataset/test... found 148 images in 2 classes ✅ \n",
            "Overriding model.yaml nc=1000 with nc=2\n",
            "\n",
            "                   from  n    params  module                                       arguments                     \n",
            "  0                  -1  1       464  ultralytics.nn.modules.conv.Conv             [3, 16, 3, 2]                 \n",
            "  1                  -1  1      4672  ultralytics.nn.modules.conv.Conv             [16, 32, 3, 2]                \n",
            "  2                  -1  1      7360  ultralytics.nn.modules.block.C2f             [32, 32, 1, True]             \n",
            "  3                  -1  1     18560  ultralytics.nn.modules.conv.Conv             [32, 64, 3, 2]                \n",
            "  4                  -1  2     49664  ultralytics.nn.modules.block.C2f             [64, 64, 2, True]             \n",
            "  5                  -1  1     73984  ultralytics.nn.modules.conv.Conv             [64, 128, 3, 2]               \n",
            "  6                  -1  2    197632  ultralytics.nn.modules.block.C2f             [128, 128, 2, True]           \n",
            "  7                  -1  1    295424  ultralytics.nn.modules.conv.Conv             [128, 256, 3, 2]              \n",
            "  8                  -1  1    460288  ultralytics.nn.modules.block.C2f             [256, 256, 1, True]           \n",
            "  9                  -1  1    332802  ultralytics.nn.modules.head.Classify         [256, 2]                      \n",
            "YOLOv8n-cls summary: 99 layers, 1440850 parameters, 1440850 gradients, 3.4 GFLOPs\n",
            "Transferred 156/158 items from pretrained weights\n",
            "\u001b[34m\u001b[1mTensorBoard: \u001b[0mStart with 'tensorboard --logdir runs/classify/train', view at http://localhost:6006/\n",
            "\u001b[34m\u001b[1mAMP: \u001b[0mrunning Automatic Mixed Precision (AMP) checks with YOLOv8n...\n",
            "\u001b[34m\u001b[1mAMP: \u001b[0mchecks passed ✅\n"
          ]
        },
        {
          "output_type": "stream",
          "name": "stderr",
          "text": [
            "\u001b[34m\u001b[1mtrain: \u001b[0mScanning /content/panda-data/panda-dataset/train... 3581 images, 0 corrupt: 100%|██████████| 3581/3581 [00:00<?, ?it/s]"
          ]
        },
        {
          "output_type": "stream",
          "name": "stdout",
          "text": [
            "\u001b[34m\u001b[1malbumentations: \u001b[0mRandomResizedCrop(p=1.0, height=64, width=64, scale=(0.5, 1.0), ratio=(0.75, 1.3333333333333333), interpolation=1), HorizontalFlip(p=0.5), ColorJitter(p=0.5, brightness=[0.6, 1.4], contrast=[0.6, 1.4], saturation=[0.30000000000000004, 1.7], hue=[-0.015, 0.015]), Normalize(p=1.0, mean=(0.0, 0.0, 0.0), std=(1.0, 1.0, 1.0), max_pixel_value=255.0), ToTensorV2(always_apply=True, p=1.0, transpose_mask=False)\n"
          ]
        },
        {
          "output_type": "stream",
          "name": "stderr",
          "text": [
            "\n",
            "\u001b[34m\u001b[1mval: \u001b[0mScanning /content/panda-data/panda-dataset/val... 567 images, 0 corrupt: 100%|██████████| 567/567 [00:00<?, ?it/s]\n"
          ]
        },
        {
          "output_type": "stream",
          "name": "stdout",
          "text": [
            "\u001b[34m\u001b[1moptimizer:\u001b[0m 'optimizer=auto' found, ignoring 'lr0=0.01' and 'momentum=0.937' and determining best 'optimizer', 'lr0' and 'momentum' automatically... \n",
            "\u001b[34m\u001b[1moptimizer:\u001b[0m AdamW(lr=0.000714, momentum=0.9) with parameter groups 26 weight(decay=0.0), 27 weight(decay=0.0005), 27 bias(decay=0.0)\n",
            "20 epochs...\n",
            "\n",
            "      Epoch    GPU_mem       loss  Instances       Size\n"
          ]
        },
        {
          "output_type": "stream",
          "name": "stderr",
          "text": [
            "       1/20     0.516G     0.4325         13         64: 100%|██████████| 224/224 [00:35<00:00,  6.31it/s]\n",
            "               classes   top1_acc   top5_acc: 100%|██████████| 18/18 [00:03<00:00,  4.98it/s]"
          ]
        },
        {
          "output_type": "stream",
          "name": "stdout",
          "text": [
            "                   all      0.899          1\n"
          ]
        },
        {
          "output_type": "stream",
          "name": "stderr",
          "text": [
            "\n"
          ]
        },
        {
          "output_type": "stream",
          "name": "stdout",
          "text": [
            "\n",
            "      Epoch    GPU_mem       loss  Instances       Size\n"
          ]
        },
        {
          "output_type": "stream",
          "name": "stderr",
          "text": [
            "       2/20     0.382G     0.2071         13         64: 100%|██████████| 224/224 [00:36<00:00,  6.18it/s]\n",
            "               classes   top1_acc   top5_acc: 100%|██████████| 18/18 [00:03<00:00,  5.96it/s]"
          ]
        },
        {
          "output_type": "stream",
          "name": "stdout",
          "text": [
            "                   all      0.914          1\n"
          ]
        },
        {
          "output_type": "stream",
          "name": "stderr",
          "text": [
            "\n"
          ]
        },
        {
          "output_type": "stream",
          "name": "stdout",
          "text": [
            "\n",
            "      Epoch    GPU_mem       loss  Instances       Size\n"
          ]
        },
        {
          "output_type": "stream",
          "name": "stderr",
          "text": [
            "       3/20     0.382G     0.1818         13         64: 100%|██████████| 224/224 [00:36<00:00,  6.21it/s]\n",
            "               classes   top1_acc   top5_acc: 100%|██████████| 18/18 [00:04<00:00,  4.43it/s]"
          ]
        },
        {
          "output_type": "stream",
          "name": "stdout",
          "text": [
            "                   all      0.949          1\n"
          ]
        },
        {
          "output_type": "stream",
          "name": "stderr",
          "text": [
            "\n"
          ]
        },
        {
          "output_type": "stream",
          "name": "stdout",
          "text": [
            "\n",
            "      Epoch    GPU_mem       loss  Instances       Size\n"
          ]
        },
        {
          "output_type": "stream",
          "name": "stderr",
          "text": [
            "       4/20     0.382G     0.1463         13         64: 100%|██████████| 224/224 [00:34<00:00,  6.53it/s]\n",
            "               classes   top1_acc   top5_acc: 100%|██████████| 18/18 [00:03<00:00,  5.60it/s]"
          ]
        },
        {
          "output_type": "stream",
          "name": "stdout",
          "text": [
            "                   all      0.947          1\n"
          ]
        },
        {
          "output_type": "stream",
          "name": "stderr",
          "text": [
            "\n"
          ]
        },
        {
          "output_type": "stream",
          "name": "stdout",
          "text": [
            "\n",
            "      Epoch    GPU_mem       loss  Instances       Size\n"
          ]
        },
        {
          "output_type": "stream",
          "name": "stderr",
          "text": [
            "       5/20     0.382G     0.1521         13         64: 100%|██████████| 224/224 [00:35<00:00,  6.23it/s]\n",
            "               classes   top1_acc   top5_acc: 100%|██████████| 18/18 [00:03<00:00,  5.55it/s]"
          ]
        },
        {
          "output_type": "stream",
          "name": "stdout",
          "text": [
            "                   all       0.94          1\n"
          ]
        },
        {
          "output_type": "stream",
          "name": "stderr",
          "text": [
            "\n"
          ]
        },
        {
          "output_type": "stream",
          "name": "stdout",
          "text": [
            "\n",
            "      Epoch    GPU_mem       loss  Instances       Size\n"
          ]
        },
        {
          "output_type": "stream",
          "name": "stderr",
          "text": [
            "       6/20     0.382G     0.1108         13         64: 100%|██████████| 224/224 [00:34<00:00,  6.46it/s]\n",
            "               classes   top1_acc   top5_acc: 100%|██████████| 18/18 [00:05<00:00,  3.52it/s]"
          ]
        },
        {
          "output_type": "stream",
          "name": "stdout",
          "text": [
            "                   all      0.961          1\n"
          ]
        },
        {
          "output_type": "stream",
          "name": "stderr",
          "text": [
            "\n"
          ]
        },
        {
          "output_type": "stream",
          "name": "stdout",
          "text": [
            "\n",
            "      Epoch    GPU_mem       loss  Instances       Size\n"
          ]
        },
        {
          "output_type": "stream",
          "name": "stderr",
          "text": [
            "       7/20     0.382G    0.09969         13         64: 100%|██████████| 224/224 [00:34<00:00,  6.56it/s]\n",
            "               classes   top1_acc   top5_acc: 100%|██████████| 18/18 [00:03<00:00,  5.03it/s]"
          ]
        },
        {
          "output_type": "stream",
          "name": "stdout",
          "text": [
            "                   all      0.959          1\n"
          ]
        },
        {
          "output_type": "stream",
          "name": "stderr",
          "text": [
            "\n"
          ]
        },
        {
          "output_type": "stream",
          "name": "stdout",
          "text": [
            "\n",
            "      Epoch    GPU_mem       loss  Instances       Size\n"
          ]
        },
        {
          "output_type": "stream",
          "name": "stderr",
          "text": [
            "       8/20     0.382G     0.1005         13         64: 100%|██████████| 224/224 [00:37<00:00,  5.90it/s]\n",
            "               classes   top1_acc   top5_acc: 100%|██████████| 18/18 [00:03<00:00,  5.34it/s]"
          ]
        },
        {
          "output_type": "stream",
          "name": "stdout",
          "text": [
            "                   all      0.963          1\n"
          ]
        },
        {
          "output_type": "stream",
          "name": "stderr",
          "text": [
            "\n"
          ]
        },
        {
          "output_type": "stream",
          "name": "stdout",
          "text": [
            "\n",
            "      Epoch    GPU_mem       loss  Instances       Size\n"
          ]
        },
        {
          "output_type": "stream",
          "name": "stderr",
          "text": [
            "       9/20     0.382G    0.09271         13         64: 100%|██████████| 224/224 [00:34<00:00,  6.44it/s]\n",
            "               classes   top1_acc   top5_acc: 100%|██████████| 18/18 [00:04<00:00,  3.70it/s]"
          ]
        },
        {
          "output_type": "stream",
          "name": "stdout",
          "text": [
            "                   all      0.972          1\n"
          ]
        },
        {
          "output_type": "stream",
          "name": "stderr",
          "text": [
            "\n"
          ]
        },
        {
          "output_type": "stream",
          "name": "stdout",
          "text": [
            "\n",
            "      Epoch    GPU_mem       loss  Instances       Size\n"
          ]
        },
        {
          "output_type": "stream",
          "name": "stderr",
          "text": [
            "      10/20     0.382G    0.06458         13         64: 100%|██████████| 224/224 [00:34<00:00,  6.48it/s]\n",
            "               classes   top1_acc   top5_acc: 100%|██████████| 18/18 [00:02<00:00,  6.38it/s]"
          ]
        },
        {
          "output_type": "stream",
          "name": "stdout",
          "text": [
            "                   all      0.961          1\n"
          ]
        },
        {
          "output_type": "stream",
          "name": "stderr",
          "text": [
            "\n"
          ]
        },
        {
          "output_type": "stream",
          "name": "stdout",
          "text": [
            "\n",
            "      Epoch    GPU_mem       loss  Instances       Size\n"
          ]
        },
        {
          "output_type": "stream",
          "name": "stderr",
          "text": [
            "      11/20     0.384G    0.06851         13         64: 100%|██████████| 224/224 [00:36<00:00,  6.11it/s]\n",
            "               classes   top1_acc   top5_acc: 100%|██████████| 18/18 [00:03<00:00,  5.52it/s]"
          ]
        },
        {
          "output_type": "stream",
          "name": "stdout",
          "text": [
            "                   all       0.97          1\n"
          ]
        },
        {
          "output_type": "stream",
          "name": "stderr",
          "text": [
            "\n"
          ]
        },
        {
          "output_type": "stream",
          "name": "stdout",
          "text": [
            "\n",
            "      Epoch    GPU_mem       loss  Instances       Size\n"
          ]
        },
        {
          "output_type": "stream",
          "name": "stderr",
          "text": [
            "      12/20     0.382G    0.05149         13         64: 100%|██████████| 224/224 [00:34<00:00,  6.57it/s]\n",
            "               classes   top1_acc   top5_acc: 100%|██████████| 18/18 [00:04<00:00,  3.83it/s]"
          ]
        },
        {
          "output_type": "stream",
          "name": "stdout",
          "text": [
            "                   all      0.974          1\n"
          ]
        },
        {
          "output_type": "stream",
          "name": "stderr",
          "text": [
            "\n"
          ]
        },
        {
          "output_type": "stream",
          "name": "stdout",
          "text": [
            "\n",
            "      Epoch    GPU_mem       loss  Instances       Size\n"
          ]
        },
        {
          "output_type": "stream",
          "name": "stderr",
          "text": [
            "      13/20     0.382G    0.04431         13         64: 100%|██████████| 224/224 [00:34<00:00,  6.48it/s]\n",
            "               classes   top1_acc   top5_acc: 100%|██████████| 18/18 [00:03<00:00,  5.66it/s]"
          ]
        },
        {
          "output_type": "stream",
          "name": "stdout",
          "text": [
            "                   all      0.977          1\n"
          ]
        },
        {
          "output_type": "stream",
          "name": "stderr",
          "text": [
            "\n"
          ]
        },
        {
          "output_type": "stream",
          "name": "stdout",
          "text": [
            "\n",
            "      Epoch    GPU_mem       loss  Instances       Size\n"
          ]
        },
        {
          "output_type": "stream",
          "name": "stderr",
          "text": [
            "      14/20     0.382G    0.05838         13         64: 100%|██████████| 224/224 [00:35<00:00,  6.27it/s]\n",
            "               classes   top1_acc   top5_acc: 100%|██████████| 18/18 [00:03<00:00,  4.64it/s]"
          ]
        },
        {
          "output_type": "stream",
          "name": "stdout",
          "text": [
            "                   all      0.975          1\n"
          ]
        },
        {
          "output_type": "stream",
          "name": "stderr",
          "text": [
            "\n"
          ]
        },
        {
          "output_type": "stream",
          "name": "stdout",
          "text": [
            "\n",
            "      Epoch    GPU_mem       loss  Instances       Size\n"
          ]
        },
        {
          "output_type": "stream",
          "name": "stderr",
          "text": [
            "      15/20     0.382G    0.05121         13         64: 100%|██████████| 224/224 [00:34<00:00,  6.48it/s]\n",
            "               classes   top1_acc   top5_acc: 100%|██████████| 18/18 [00:03<00:00,  4.60it/s]"
          ]
        },
        {
          "output_type": "stream",
          "name": "stdout",
          "text": [
            "                   all      0.981          1\n"
          ]
        },
        {
          "output_type": "stream",
          "name": "stderr",
          "text": [
            "\n"
          ]
        },
        {
          "output_type": "stream",
          "name": "stdout",
          "text": [
            "\n",
            "      Epoch    GPU_mem       loss  Instances       Size\n"
          ]
        },
        {
          "output_type": "stream",
          "name": "stderr",
          "text": [
            "      16/20     0.382G    0.04183         13         64: 100%|██████████| 224/224 [00:35<00:00,  6.37it/s]\n",
            "               classes   top1_acc   top5_acc: 100%|██████████| 18/18 [00:02<00:00,  6.23it/s]"
          ]
        },
        {
          "output_type": "stream",
          "name": "stdout",
          "text": [
            "                   all      0.977          1\n"
          ]
        },
        {
          "output_type": "stream",
          "name": "stderr",
          "text": [
            "\n"
          ]
        },
        {
          "output_type": "stream",
          "name": "stdout",
          "text": [
            "\n",
            "      Epoch    GPU_mem       loss  Instances       Size\n"
          ]
        },
        {
          "output_type": "stream",
          "name": "stderr",
          "text": [
            "      17/20     0.382G    0.04626         13         64: 100%|██████████| 224/224 [00:35<00:00,  6.22it/s]\n",
            "               classes   top1_acc   top5_acc: 100%|██████████| 18/18 [00:03<00:00,  4.80it/s]"
          ]
        },
        {
          "output_type": "stream",
          "name": "stdout",
          "text": [
            "                   all      0.966          1\n"
          ]
        },
        {
          "output_type": "stream",
          "name": "stderr",
          "text": [
            "\n"
          ]
        },
        {
          "output_type": "stream",
          "name": "stdout",
          "text": [
            "\n",
            "      Epoch    GPU_mem       loss  Instances       Size\n"
          ]
        },
        {
          "output_type": "stream",
          "name": "stderr",
          "text": [
            "      18/20     0.382G    0.04186         13         64: 100%|██████████| 224/224 [00:34<00:00,  6.41it/s]\n",
            "               classes   top1_acc   top5_acc: 100%|██████████| 18/18 [00:03<00:00,  4.86it/s]"
          ]
        },
        {
          "output_type": "stream",
          "name": "stdout",
          "text": [
            "                   all      0.981          1\n"
          ]
        },
        {
          "output_type": "stream",
          "name": "stderr",
          "text": [
            "\n"
          ]
        },
        {
          "output_type": "stream",
          "name": "stdout",
          "text": [
            "\n",
            "      Epoch    GPU_mem       loss  Instances       Size\n"
          ]
        },
        {
          "output_type": "stream",
          "name": "stderr",
          "text": [
            "      19/20     0.382G    0.03417         13         64: 100%|██████████| 224/224 [00:35<00:00,  6.23it/s]\n",
            "               classes   top1_acc   top5_acc: 100%|██████████| 18/18 [00:03<00:00,  5.42it/s]"
          ]
        },
        {
          "output_type": "stream",
          "name": "stdout",
          "text": [
            "                   all      0.979          1\n"
          ]
        },
        {
          "output_type": "stream",
          "name": "stderr",
          "text": [
            "\n"
          ]
        },
        {
          "output_type": "stream",
          "name": "stdout",
          "text": [
            "\n",
            "      Epoch    GPU_mem       loss  Instances       Size\n"
          ]
        },
        {
          "output_type": "stream",
          "name": "stderr",
          "text": [
            "      20/20     0.382G    0.02798         13         64: 100%|██████████| 224/224 [00:35<00:00,  6.39it/s]\n",
            "               classes   top1_acc   top5_acc: 100%|██████████| 18/18 [00:04<00:00,  4.05it/s]"
          ]
        },
        {
          "output_type": "stream",
          "name": "stdout",
          "text": [
            "                   all      0.981          1\n"
          ]
        },
        {
          "output_type": "stream",
          "name": "stderr",
          "text": [
            "\n"
          ]
        },
        {
          "output_type": "stream",
          "name": "stdout",
          "text": [
            "\n",
            "20 epochs completed in 0.221 hours.\n",
            "Optimizer stripped from runs/classify/train/weights/last.pt, 3.0MB\n",
            "Optimizer stripped from runs/classify/train/weights/best.pt, 3.0MB\n",
            "\n",
            "Validating runs/classify/train/weights/best.pt...\n",
            "Ultralytics YOLOv8.0.228 🚀 Python-3.10.12 torch-2.1.0+cu121 CUDA:0 (Tesla T4, 15102MiB)\n",
            "YOLOv8n-cls summary (fused): 73 layers, 1437442 parameters, 0 gradients, 3.3 GFLOPs\n",
            "\u001b[34m\u001b[1mtrain:\u001b[0m /content/panda-data/panda-dataset/train... found 3581 images in 2 classes ✅ \n",
            "\u001b[34m\u001b[1mval:\u001b[0m /content/panda-data/panda-dataset/val... found 567 images in 2 classes ✅ \n",
            "\u001b[34m\u001b[1mtest:\u001b[0m /content/panda-data/panda-dataset/test... found 148 images in 2 classes ✅ \n"
          ]
        },
        {
          "output_type": "stream",
          "name": "stderr",
          "text": [
            "               classes   top1_acc   top5_acc: 100%|██████████| 18/18 [00:03<00:00,  5.31it/s]\n"
          ]
        },
        {
          "output_type": "stream",
          "name": "stdout",
          "text": [
            "                   all      0.981          1\n",
            "Speed: 0.2ms preprocess, 1.1ms inference, 0.0ms loss, 0.0ms postprocess per image\n",
            "Results saved to \u001b[1mruns/classify/train\u001b[0m\n",
            "Results saved to \u001b[1mruns/classify/train\u001b[0m\n"
          ]
        }
      ]
    },
    {
      "cell_type": "markdown",
      "source": [
        "In this table and graph, we can observe how the accuracy and loss rates changed during model training. In addition, we can see that the accuracy of the model is 98.1% on the data in the `test` directory.\n",
        "\n",
        "Runs result:"
      ],
      "metadata": {
        "id": "9d5sQY_rKD32"
      }
    },
    {
      "cell_type": "code",
      "source": [
        "import pandas as pd\n",
        "\n",
        "data = pd.read_csv('/content/runs/classify/train/results.csv')\n",
        "data"
      ],
      "metadata": {
        "colab": {
          "base_uri": "https://localhost:8080/",
          "height": 677
        },
        "id": "afDlEZyaKDXo",
        "outputId": "a27db017-7fc1-4926-be6b-a5e5a056f533"
      },
      "execution_count": 84,
      "outputs": [
        {
          "output_type": "execute_result",
          "data": {
            "text/plain": [
              "                      epoch               train/loss    metrics/accuracy_top1  \\\n",
              "0                         1                  0.43252                  0.89947   \n",
              "1                         2                  0.20707                  0.91358   \n",
              "2                         3                  0.18180                  0.94885   \n",
              "3                         4                  0.14634                  0.94709   \n",
              "4                         5                  0.15212                  0.94004   \n",
              "5                         6                  0.11078                  0.96120   \n",
              "6                         7                  0.09969                  0.95944   \n",
              "7                         8                  0.10050                  0.96296   \n",
              "8                         9                  0.09271                  0.97178   \n",
              "9                        10                  0.06458                  0.96120   \n",
              "10                       11                  0.06851                  0.97002   \n",
              "11                       12                  0.05149                  0.97354   \n",
              "12                       13                  0.04431                  0.97707   \n",
              "13                       14                  0.05838                  0.97531   \n",
              "14                       15                  0.05121                  0.98060   \n",
              "15                       16                  0.04183                  0.97707   \n",
              "16                       17                  0.04626                  0.96649   \n",
              "17                       18                  0.04186                  0.98060   \n",
              "18                       19                  0.03417                  0.97884   \n",
              "19                       20                  0.02798                  0.98060   \n",
              "\n",
              "      metrics/accuracy_top5                 val/loss                   lr/pg0  \\\n",
              "0                         1                  0.42217                 0.000237   \n",
              "1                         1                  0.40190                 0.000451   \n",
              "2                         1                  0.37200                 0.000642   \n",
              "3                         1                  0.37916                 0.000608   \n",
              "4                         1                  0.38040                 0.000608   \n",
              "5                         1                  0.36294                 0.000573   \n",
              "6                         1                  0.36270                 0.000537   \n",
              "7                         1                  0.35438                 0.000502   \n",
              "8                         1                  0.35347                 0.000467   \n",
              "9                         1                  0.35296                 0.000431   \n",
              "10                        1                  0.35046                 0.000396   \n",
              "11                        1                  0.34054                 0.000361   \n",
              "12                        1                  0.34021                 0.000325   \n",
              "13                        1                  0.34386                 0.000290   \n",
              "14                        1                  0.34055                 0.000255   \n",
              "15                        1                  0.34051                 0.000219   \n",
              "16                        1                  0.34782                 0.000184   \n",
              "17                        1                  0.33937                 0.000149   \n",
              "18                        1                  0.33843                 0.000113   \n",
              "19                        1                  0.33657                 0.000078   \n",
              "\n",
              "                     lr/pg1                   lr/pg2  \n",
              "0                  0.000237                 0.000237  \n",
              "1                  0.000451                 0.000451  \n",
              "2                  0.000642                 0.000642  \n",
              "3                  0.000608                 0.000608  \n",
              "4                  0.000608                 0.000608  \n",
              "5                  0.000573                 0.000573  \n",
              "6                  0.000537                 0.000537  \n",
              "7                  0.000502                 0.000502  \n",
              "8                  0.000467                 0.000467  \n",
              "9                  0.000431                 0.000431  \n",
              "10                 0.000396                 0.000396  \n",
              "11                 0.000361                 0.000361  \n",
              "12                 0.000325                 0.000325  \n",
              "13                 0.000290                 0.000290  \n",
              "14                 0.000255                 0.000255  \n",
              "15                 0.000219                 0.000219  \n",
              "16                 0.000184                 0.000184  \n",
              "17                 0.000149                 0.000149  \n",
              "18                 0.000113                 0.000113  \n",
              "19                 0.000078                 0.000078  "
            ],
            "text/html": [
              "\n",
              "  <div id=\"df-99623375-d3e0-4e0d-9845-94ffee54cb38\" class=\"colab-df-container\">\n",
              "    <div>\n",
              "<style scoped>\n",
              "    .dataframe tbody tr th:only-of-type {\n",
              "        vertical-align: middle;\n",
              "    }\n",
              "\n",
              "    .dataframe tbody tr th {\n",
              "        vertical-align: top;\n",
              "    }\n",
              "\n",
              "    .dataframe thead th {\n",
              "        text-align: right;\n",
              "    }\n",
              "</style>\n",
              "<table border=\"1\" class=\"dataframe\">\n",
              "  <thead>\n",
              "    <tr style=\"text-align: right;\">\n",
              "      <th></th>\n",
              "      <th>epoch</th>\n",
              "      <th>train/loss</th>\n",
              "      <th>metrics/accuracy_top1</th>\n",
              "      <th>metrics/accuracy_top5</th>\n",
              "      <th>val/loss</th>\n",
              "      <th>lr/pg0</th>\n",
              "      <th>lr/pg1</th>\n",
              "      <th>lr/pg2</th>\n",
              "    </tr>\n",
              "  </thead>\n",
              "  <tbody>\n",
              "    <tr>\n",
              "      <th>0</th>\n",
              "      <td>1</td>\n",
              "      <td>0.43252</td>\n",
              "      <td>0.89947</td>\n",
              "      <td>1</td>\n",
              "      <td>0.42217</td>\n",
              "      <td>0.000237</td>\n",
              "      <td>0.000237</td>\n",
              "      <td>0.000237</td>\n",
              "    </tr>\n",
              "    <tr>\n",
              "      <th>1</th>\n",
              "      <td>2</td>\n",
              "      <td>0.20707</td>\n",
              "      <td>0.91358</td>\n",
              "      <td>1</td>\n",
              "      <td>0.40190</td>\n",
              "      <td>0.000451</td>\n",
              "      <td>0.000451</td>\n",
              "      <td>0.000451</td>\n",
              "    </tr>\n",
              "    <tr>\n",
              "      <th>2</th>\n",
              "      <td>3</td>\n",
              "      <td>0.18180</td>\n",
              "      <td>0.94885</td>\n",
              "      <td>1</td>\n",
              "      <td>0.37200</td>\n",
              "      <td>0.000642</td>\n",
              "      <td>0.000642</td>\n",
              "      <td>0.000642</td>\n",
              "    </tr>\n",
              "    <tr>\n",
              "      <th>3</th>\n",
              "      <td>4</td>\n",
              "      <td>0.14634</td>\n",
              "      <td>0.94709</td>\n",
              "      <td>1</td>\n",
              "      <td>0.37916</td>\n",
              "      <td>0.000608</td>\n",
              "      <td>0.000608</td>\n",
              "      <td>0.000608</td>\n",
              "    </tr>\n",
              "    <tr>\n",
              "      <th>4</th>\n",
              "      <td>5</td>\n",
              "      <td>0.15212</td>\n",
              "      <td>0.94004</td>\n",
              "      <td>1</td>\n",
              "      <td>0.38040</td>\n",
              "      <td>0.000608</td>\n",
              "      <td>0.000608</td>\n",
              "      <td>0.000608</td>\n",
              "    </tr>\n",
              "    <tr>\n",
              "      <th>5</th>\n",
              "      <td>6</td>\n",
              "      <td>0.11078</td>\n",
              "      <td>0.96120</td>\n",
              "      <td>1</td>\n",
              "      <td>0.36294</td>\n",
              "      <td>0.000573</td>\n",
              "      <td>0.000573</td>\n",
              "      <td>0.000573</td>\n",
              "    </tr>\n",
              "    <tr>\n",
              "      <th>6</th>\n",
              "      <td>7</td>\n",
              "      <td>0.09969</td>\n",
              "      <td>0.95944</td>\n",
              "      <td>1</td>\n",
              "      <td>0.36270</td>\n",
              "      <td>0.000537</td>\n",
              "      <td>0.000537</td>\n",
              "      <td>0.000537</td>\n",
              "    </tr>\n",
              "    <tr>\n",
              "      <th>7</th>\n",
              "      <td>8</td>\n",
              "      <td>0.10050</td>\n",
              "      <td>0.96296</td>\n",
              "      <td>1</td>\n",
              "      <td>0.35438</td>\n",
              "      <td>0.000502</td>\n",
              "      <td>0.000502</td>\n",
              "      <td>0.000502</td>\n",
              "    </tr>\n",
              "    <tr>\n",
              "      <th>8</th>\n",
              "      <td>9</td>\n",
              "      <td>0.09271</td>\n",
              "      <td>0.97178</td>\n",
              "      <td>1</td>\n",
              "      <td>0.35347</td>\n",
              "      <td>0.000467</td>\n",
              "      <td>0.000467</td>\n",
              "      <td>0.000467</td>\n",
              "    </tr>\n",
              "    <tr>\n",
              "      <th>9</th>\n",
              "      <td>10</td>\n",
              "      <td>0.06458</td>\n",
              "      <td>0.96120</td>\n",
              "      <td>1</td>\n",
              "      <td>0.35296</td>\n",
              "      <td>0.000431</td>\n",
              "      <td>0.000431</td>\n",
              "      <td>0.000431</td>\n",
              "    </tr>\n",
              "    <tr>\n",
              "      <th>10</th>\n",
              "      <td>11</td>\n",
              "      <td>0.06851</td>\n",
              "      <td>0.97002</td>\n",
              "      <td>1</td>\n",
              "      <td>0.35046</td>\n",
              "      <td>0.000396</td>\n",
              "      <td>0.000396</td>\n",
              "      <td>0.000396</td>\n",
              "    </tr>\n",
              "    <tr>\n",
              "      <th>11</th>\n",
              "      <td>12</td>\n",
              "      <td>0.05149</td>\n",
              "      <td>0.97354</td>\n",
              "      <td>1</td>\n",
              "      <td>0.34054</td>\n",
              "      <td>0.000361</td>\n",
              "      <td>0.000361</td>\n",
              "      <td>0.000361</td>\n",
              "    </tr>\n",
              "    <tr>\n",
              "      <th>12</th>\n",
              "      <td>13</td>\n",
              "      <td>0.04431</td>\n",
              "      <td>0.97707</td>\n",
              "      <td>1</td>\n",
              "      <td>0.34021</td>\n",
              "      <td>0.000325</td>\n",
              "      <td>0.000325</td>\n",
              "      <td>0.000325</td>\n",
              "    </tr>\n",
              "    <tr>\n",
              "      <th>13</th>\n",
              "      <td>14</td>\n",
              "      <td>0.05838</td>\n",
              "      <td>0.97531</td>\n",
              "      <td>1</td>\n",
              "      <td>0.34386</td>\n",
              "      <td>0.000290</td>\n",
              "      <td>0.000290</td>\n",
              "      <td>0.000290</td>\n",
              "    </tr>\n",
              "    <tr>\n",
              "      <th>14</th>\n",
              "      <td>15</td>\n",
              "      <td>0.05121</td>\n",
              "      <td>0.98060</td>\n",
              "      <td>1</td>\n",
              "      <td>0.34055</td>\n",
              "      <td>0.000255</td>\n",
              "      <td>0.000255</td>\n",
              "      <td>0.000255</td>\n",
              "    </tr>\n",
              "    <tr>\n",
              "      <th>15</th>\n",
              "      <td>16</td>\n",
              "      <td>0.04183</td>\n",
              "      <td>0.97707</td>\n",
              "      <td>1</td>\n",
              "      <td>0.34051</td>\n",
              "      <td>0.000219</td>\n",
              "      <td>0.000219</td>\n",
              "      <td>0.000219</td>\n",
              "    </tr>\n",
              "    <tr>\n",
              "      <th>16</th>\n",
              "      <td>17</td>\n",
              "      <td>0.04626</td>\n",
              "      <td>0.96649</td>\n",
              "      <td>1</td>\n",
              "      <td>0.34782</td>\n",
              "      <td>0.000184</td>\n",
              "      <td>0.000184</td>\n",
              "      <td>0.000184</td>\n",
              "    </tr>\n",
              "    <tr>\n",
              "      <th>17</th>\n",
              "      <td>18</td>\n",
              "      <td>0.04186</td>\n",
              "      <td>0.98060</td>\n",
              "      <td>1</td>\n",
              "      <td>0.33937</td>\n",
              "      <td>0.000149</td>\n",
              "      <td>0.000149</td>\n",
              "      <td>0.000149</td>\n",
              "    </tr>\n",
              "    <tr>\n",
              "      <th>18</th>\n",
              "      <td>19</td>\n",
              "      <td>0.03417</td>\n",
              "      <td>0.97884</td>\n",
              "      <td>1</td>\n",
              "      <td>0.33843</td>\n",
              "      <td>0.000113</td>\n",
              "      <td>0.000113</td>\n",
              "      <td>0.000113</td>\n",
              "    </tr>\n",
              "    <tr>\n",
              "      <th>19</th>\n",
              "      <td>20</td>\n",
              "      <td>0.02798</td>\n",
              "      <td>0.98060</td>\n",
              "      <td>1</td>\n",
              "      <td>0.33657</td>\n",
              "      <td>0.000078</td>\n",
              "      <td>0.000078</td>\n",
              "      <td>0.000078</td>\n",
              "    </tr>\n",
              "  </tbody>\n",
              "</table>\n",
              "</div>\n",
              "    <div class=\"colab-df-buttons\">\n",
              "\n",
              "  <div class=\"colab-df-container\">\n",
              "    <button class=\"colab-df-convert\" onclick=\"convertToInteractive('df-99623375-d3e0-4e0d-9845-94ffee54cb38')\"\n",
              "            title=\"Convert this dataframe to an interactive table.\"\n",
              "            style=\"display:none;\">\n",
              "\n",
              "  <svg xmlns=\"http://www.w3.org/2000/svg\" height=\"24px\" viewBox=\"0 -960 960 960\">\n",
              "    <path d=\"M120-120v-720h720v720H120Zm60-500h600v-160H180v160Zm220 220h160v-160H400v160Zm0 220h160v-160H400v160ZM180-400h160v-160H180v160Zm440 0h160v-160H620v160ZM180-180h160v-160H180v160Zm440 0h160v-160H620v160Z\"/>\n",
              "  </svg>\n",
              "    </button>\n",
              "\n",
              "  <style>\n",
              "    .colab-df-container {\n",
              "      display:flex;\n",
              "      gap: 12px;\n",
              "    }\n",
              "\n",
              "    .colab-df-convert {\n",
              "      background-color: #E8F0FE;\n",
              "      border: none;\n",
              "      border-radius: 50%;\n",
              "      cursor: pointer;\n",
              "      display: none;\n",
              "      fill: #1967D2;\n",
              "      height: 32px;\n",
              "      padding: 0 0 0 0;\n",
              "      width: 32px;\n",
              "    }\n",
              "\n",
              "    .colab-df-convert:hover {\n",
              "      background-color: #E2EBFA;\n",
              "      box-shadow: 0px 1px 2px rgba(60, 64, 67, 0.3), 0px 1px 3px 1px rgba(60, 64, 67, 0.15);\n",
              "      fill: #174EA6;\n",
              "    }\n",
              "\n",
              "    .colab-df-buttons div {\n",
              "      margin-bottom: 4px;\n",
              "    }\n",
              "\n",
              "    [theme=dark] .colab-df-convert {\n",
              "      background-color: #3B4455;\n",
              "      fill: #D2E3FC;\n",
              "    }\n",
              "\n",
              "    [theme=dark] .colab-df-convert:hover {\n",
              "      background-color: #434B5C;\n",
              "      box-shadow: 0px 1px 3px 1px rgba(0, 0, 0, 0.15);\n",
              "      filter: drop-shadow(0px 1px 2px rgba(0, 0, 0, 0.3));\n",
              "      fill: #FFFFFF;\n",
              "    }\n",
              "  </style>\n",
              "\n",
              "    <script>\n",
              "      const buttonEl =\n",
              "        document.querySelector('#df-99623375-d3e0-4e0d-9845-94ffee54cb38 button.colab-df-convert');\n",
              "      buttonEl.style.display =\n",
              "        google.colab.kernel.accessAllowed ? 'block' : 'none';\n",
              "\n",
              "      async function convertToInteractive(key) {\n",
              "        const element = document.querySelector('#df-99623375-d3e0-4e0d-9845-94ffee54cb38');\n",
              "        const dataTable =\n",
              "          await google.colab.kernel.invokeFunction('convertToInteractive',\n",
              "                                                    [key], {});\n",
              "        if (!dataTable) return;\n",
              "\n",
              "        const docLinkHtml = 'Like what you see? Visit the ' +\n",
              "          '<a target=\"_blank\" href=https://colab.research.google.com/notebooks/data_table.ipynb>data table notebook</a>'\n",
              "          + ' to learn more about interactive tables.';\n",
              "        element.innerHTML = '';\n",
              "        dataTable['output_type'] = 'display_data';\n",
              "        await google.colab.output.renderOutput(dataTable, element);\n",
              "        const docLink = document.createElement('div');\n",
              "        docLink.innerHTML = docLinkHtml;\n",
              "        element.appendChild(docLink);\n",
              "      }\n",
              "    </script>\n",
              "  </div>\n",
              "\n",
              "\n",
              "<div id=\"df-c2bb2438-86ed-45fb-a5be-04c714a25ff9\">\n",
              "  <button class=\"colab-df-quickchart\" onclick=\"quickchart('df-c2bb2438-86ed-45fb-a5be-04c714a25ff9')\"\n",
              "            title=\"Suggest charts\"\n",
              "            style=\"display:none;\">\n",
              "\n",
              "<svg xmlns=\"http://www.w3.org/2000/svg\" height=\"24px\"viewBox=\"0 0 24 24\"\n",
              "     width=\"24px\">\n",
              "    <g>\n",
              "        <path d=\"M19 3H5c-1.1 0-2 .9-2 2v14c0 1.1.9 2 2 2h14c1.1 0 2-.9 2-2V5c0-1.1-.9-2-2-2zM9 17H7v-7h2v7zm4 0h-2V7h2v10zm4 0h-2v-4h2v4z\"/>\n",
              "    </g>\n",
              "</svg>\n",
              "  </button>\n",
              "\n",
              "<style>\n",
              "  .colab-df-quickchart {\n",
              "      --bg-color: #E8F0FE;\n",
              "      --fill-color: #1967D2;\n",
              "      --hover-bg-color: #E2EBFA;\n",
              "      --hover-fill-color: #174EA6;\n",
              "      --disabled-fill-color: #AAA;\n",
              "      --disabled-bg-color: #DDD;\n",
              "  }\n",
              "\n",
              "  [theme=dark] .colab-df-quickchart {\n",
              "      --bg-color: #3B4455;\n",
              "      --fill-color: #D2E3FC;\n",
              "      --hover-bg-color: #434B5C;\n",
              "      --hover-fill-color: #FFFFFF;\n",
              "      --disabled-bg-color: #3B4455;\n",
              "      --disabled-fill-color: #666;\n",
              "  }\n",
              "\n",
              "  .colab-df-quickchart {\n",
              "    background-color: var(--bg-color);\n",
              "    border: none;\n",
              "    border-radius: 50%;\n",
              "    cursor: pointer;\n",
              "    display: none;\n",
              "    fill: var(--fill-color);\n",
              "    height: 32px;\n",
              "    padding: 0;\n",
              "    width: 32px;\n",
              "  }\n",
              "\n",
              "  .colab-df-quickchart:hover {\n",
              "    background-color: var(--hover-bg-color);\n",
              "    box-shadow: 0 1px 2px rgba(60, 64, 67, 0.3), 0 1px 3px 1px rgba(60, 64, 67, 0.15);\n",
              "    fill: var(--button-hover-fill-color);\n",
              "  }\n",
              "\n",
              "  .colab-df-quickchart-complete:disabled,\n",
              "  .colab-df-quickchart-complete:disabled:hover {\n",
              "    background-color: var(--disabled-bg-color);\n",
              "    fill: var(--disabled-fill-color);\n",
              "    box-shadow: none;\n",
              "  }\n",
              "\n",
              "  .colab-df-spinner {\n",
              "    border: 2px solid var(--fill-color);\n",
              "    border-color: transparent;\n",
              "    border-bottom-color: var(--fill-color);\n",
              "    animation:\n",
              "      spin 1s steps(1) infinite;\n",
              "  }\n",
              "\n",
              "  @keyframes spin {\n",
              "    0% {\n",
              "      border-color: transparent;\n",
              "      border-bottom-color: var(--fill-color);\n",
              "      border-left-color: var(--fill-color);\n",
              "    }\n",
              "    20% {\n",
              "      border-color: transparent;\n",
              "      border-left-color: var(--fill-color);\n",
              "      border-top-color: var(--fill-color);\n",
              "    }\n",
              "    30% {\n",
              "      border-color: transparent;\n",
              "      border-left-color: var(--fill-color);\n",
              "      border-top-color: var(--fill-color);\n",
              "      border-right-color: var(--fill-color);\n",
              "    }\n",
              "    40% {\n",
              "      border-color: transparent;\n",
              "      border-right-color: var(--fill-color);\n",
              "      border-top-color: var(--fill-color);\n",
              "    }\n",
              "    60% {\n",
              "      border-color: transparent;\n",
              "      border-right-color: var(--fill-color);\n",
              "    }\n",
              "    80% {\n",
              "      border-color: transparent;\n",
              "      border-right-color: var(--fill-color);\n",
              "      border-bottom-color: var(--fill-color);\n",
              "    }\n",
              "    90% {\n",
              "      border-color: transparent;\n",
              "      border-bottom-color: var(--fill-color);\n",
              "    }\n",
              "  }\n",
              "</style>\n",
              "\n",
              "  <script>\n",
              "    async function quickchart(key) {\n",
              "      const quickchartButtonEl =\n",
              "        document.querySelector('#' + key + ' button');\n",
              "      quickchartButtonEl.disabled = true;  // To prevent multiple clicks.\n",
              "      quickchartButtonEl.classList.add('colab-df-spinner');\n",
              "      try {\n",
              "        const charts = await google.colab.kernel.invokeFunction(\n",
              "            'suggestCharts', [key], {});\n",
              "      } catch (error) {\n",
              "        console.error('Error during call to suggestCharts:', error);\n",
              "      }\n",
              "      quickchartButtonEl.classList.remove('colab-df-spinner');\n",
              "      quickchartButtonEl.classList.add('colab-df-quickchart-complete');\n",
              "    }\n",
              "    (() => {\n",
              "      let quickchartButtonEl =\n",
              "        document.querySelector('#df-c2bb2438-86ed-45fb-a5be-04c714a25ff9 button');\n",
              "      quickchartButtonEl.style.display =\n",
              "        google.colab.kernel.accessAllowed ? 'block' : 'none';\n",
              "    })();\n",
              "  </script>\n",
              "</div>\n",
              "    </div>\n",
              "  </div>\n"
            ]
          },
          "metadata": {},
          "execution_count": 84
        }
      ]
    },
    {
      "cell_type": "code",
      "source": [
        "from IPython.display import Image\n",
        "Image('/content/runs/classify/train/results.png')"
      ],
      "metadata": {
        "colab": {
          "base_uri": "https://localhost:8080/",
          "height": 1000
        },
        "id": "SG9lu7hlMPJc",
        "outputId": "4c9fb584-4727-4d8a-9a4c-3b9e0f2fec01"
      },
      "execution_count": 12,
      "outputs": [
        {
          "output_type": "execute_result",
          "data": {
            "image/png": "[encoded data removed]",
            "text/plain": [
              "<IPython.core.display.Image object>"
            ]
          },
          "metadata": {},
          "execution_count": 12
        }
      ]
    },
    {
      "cell_type": "markdown",
      "source": [
        "# Test and validate model"
      ],
      "metadata": {
        "id": "h3XvMZatM0tw"
      }
    },
    {
      "cell_type": "markdown",
      "source": [
        "Now I'd like to test how the model handles identifying the membership of different classes of animals. For this purpose I will use the data in the directory `panda-test/hand-testing`. The results of testing will be presented in the table below."
      ],
      "metadata": {
        "id": "q5laX1SVM3Vn"
      }
    },
    {
      "cell_type": "code",
      "source": [
        "PANDA_TEST_DATA = \"panda-data/hand-testing/red-panda\"\n",
        "NOPANDA_TEST_DATA = \"panda-data/hand-testing/no-red-panda\"\n",
        "PANDA_CLASS_NAME = \"red-panda\"\n",
        "NOPANDA_CLASS_NAME = \"no-red-panda\"\n",
        "\n",
        "!echo \"classes of no read panda animals:\"\n",
        "!ls panda-data/hand-testing/no-red-panda"
      ],
      "metadata": {
        "colab": {
          "base_uri": "https://localhost:8080/"
        },
        "id": "y0JP8fCP740L",
        "outputId": "bf84efa7-49f1-4fa5-ddf7-889b6d0faeff"
      },
      "execution_count": 36,
      "outputs": [
        {
          "output_type": "stream",
          "name": "stdout",
          "text": [
            "classes of no read panda animals:\n",
            "antelope     coyote\tgoldfish      kangaroo\t otter\t\t rat\t       sparrow\n",
            "badger\t     crab\tgoose\t      koala\t owl\t\t red-cat       squid\n",
            "bat\t     crow\tgorilla       ladybugs\t ox\t\t red-dog       squirrel\n",
            "bear\t     deer\tgrasshopper   leopard\t oyster\t\t red-fox       starfish\n",
            "bee\t     dolphin\thamster       lion\t panda\t\t red-squirrel  swan\n",
            "beetle\t     donkey\thare\t      lizard\t parrot\t\t reindeer      tiger\n",
            "bison\t     dragonfly\thedgehog      lobster\t pelecaniformes  rhinoceros    turkey\n",
            "boar\t     duck\thippopotamus  mosquito\t penguin\t sandpiper     turtle\n",
            "butterfly    eagle\thornbill      moth\t pig\t\t seahorse      whale\n",
            "caterpillar  elephant\thorse\t      mouse\t pigeon\t\t seal\t       wolf\n",
            "chimpanzee   flamingo\thummingbird   octopus\t porcupine\t shark\t       wombat\n",
            "cockroach    fly\thyena\t      okapi\t possum\t\t sheep\t       woodpecker\n",
            "cow\t     goat\tjellyfish     orangutan  raccoon\t snake\t       zebra\n"
          ]
        }
      ]
    },
    {
      "cell_type": "code",
      "source": [
        "from ultralytics import YOLO\n",
        "\n",
        "import numpy as np\n",
        "\n",
        "class AnimalClass:\n",
        "  def __init__(self, class_name: str, number_of_test_cases : int, accepted_cases : int, rejected_cases : int):\n",
        "    self.class_name = class_name\n",
        "    self.number_of_test_cases = number_of_test_cases\n",
        "    self.accepted = accepted_cases\n",
        "    self.rejected = rejected_cases\n",
        "\n",
        "  @classmethod\n",
        "  def from_class_dir(cls, model, class_dir : str, is_red_panda_class : bool) -> 'AnimalClass':\n",
        "\n",
        "    class_name = class_dir.split(\"/\").pop()\n",
        "    number_of_test_cases = len(os.listdir(class_dir))\n",
        "    accepted_cases, rejected_cases = 0, 0\n",
        "\n",
        "    for animal_img in os.listdir(class_dir):\n",
        "      animal_path = os.path.join(class_dir, animal_img)\n",
        "\n",
        "      if os.path.isfile(animal_path):\n",
        "        predict_result = model.predict(animal_path)[0]\n",
        "        names = predict_result.names\n",
        "        probs = predict_result.probs.data.tolist()\n",
        "        predicted_class = names[np.argmax(probs)]\n",
        "\n",
        "        if is_red_panda_class:\n",
        "            if predicted_class == PANDA_CLASS_NAME:\n",
        "              accepted_cases += 1\n",
        "            else:\n",
        "              rejected_cases += 1\n",
        "        else:\n",
        "            if predicted_class == NOPANDA_CLASS_NAME:\n",
        "              accepted_cases += 1\n",
        "            else:\n",
        "              rejected_cases += 1\n",
        "\n",
        "    return cls(class_name, number_of_test_cases, accepted_cases, rejected_cases)\n"
      ],
      "metadata": {
        "id": "JuYxMVEYmRgw"
      },
      "execution_count": 76,
      "outputs": []
    },
    {
      "cell_type": "code",
      "source": [
        "from ultralytics import YOLO\n",
        "\n",
        "result = []\n",
        "model = YOLO('/content/runs/classify/train/weights/last.pt')\n",
        "result.append(AnimalClass.from_class_dir(model, PANDA_TEST_DATA, True))\n",
        "for animal_class in os.listdir(NOPANDA_TEST_DATA):\n",
        "  animal_class_path = os.path.join(NOPANDA_TEST_DATA, animal_class)\n",
        "  if os.path.isdir(animal_class_path):\n",
        "    result.append(AnimalClass.from_class_dir(model, animal_class_path, False))\n"
      ],
      "metadata": {
        "id": "NFz_zMN3M3uV"
      },
      "execution_count": null,
      "outputs": []
    },
    {
      "cell_type": "code",
      "source": [
        "import csv\n",
        "\n",
        "RESULT_FILE = 'result.csv'\n",
        "\n",
        "result.sort(key=lambda val: val.class_name)\n",
        "\n",
        "with open(RESULT_FILE, 'w', newline='') as file:\n",
        "  writer = csv.writer(file)\n",
        "  fields = ['animal-class', 'images number', 'accepted', 'rejected', 'acceptance rate']\n",
        "  writer.writerow(fields)\n",
        "  total_images, total_accepted, total_rejected, total_acceptance_rate = 0, 0, 0, 0.0\n",
        "\n",
        "  for animal_class in result:\n",
        "    num = animal_class.number_of_test_cases\n",
        "    accepted = animal_class.accepted\n",
        "    rejected = animal_class.rejected\n",
        "    acceptance_rate = accepted/float(num)\n",
        "    writer.writerow([animal_class.class_name, str(num), str(accepted), str(rejected), '{:.0%}'.format(acceptance_rate)])\n",
        "    total_images += num\n",
        "    total_accepted += accepted\n",
        "    total_rejected += rejected\n",
        "    total_acceptance_rate += acceptance_rate\n",
        "\n",
        "  writer.writerow([\"total\", str(total_images), str(total_accepted), str(total_rejected), '{:.0%}'.format(total_acceptance_rate/len(result))])\n"
      ],
      "metadata": {
        "id": "smSfsoPS06VJ"
      },
      "execution_count": 89,
      "outputs": []
    },
    {
      "cell_type": "markdown",
      "source": [
        "Results of model performance:"
      ],
      "metadata": {
        "id": "sHB4YU913QVi"
      }
    },
    {
      "cell_type": "code",
      "source": [
        "import pandas as pd\n",
        "\n",
        "data = pd.read_csv(RESULT_FILE)\n",
        "data"
      ],
      "metadata": {
        "colab": {
          "base_uri": "https://localhost:8080/",
          "height": 687
        },
        "id": "akZOfjwx3Vbk",
        "outputId": "90f7fd2e-104b-4109-efb7-bfc9708a9c46"
      },
      "execution_count": 92,
      "outputs": [
        {
          "output_type": "execute_result",
          "data": {
            "text/plain": [
              "   animal-class  images number  accepted  rejected acceptance rate\n",
              "0      antelope             30        29         1             97%\n",
              "1        badger             30        30         0            100%\n",
              "2           bat             30        27         3             90%\n",
              "3          bear             30        29         1             97%\n",
              "4           bee             30        30         0            100%\n",
              "..          ...            ...       ...       ...             ...\n",
              "88         wolf             30        30         0            100%\n",
              "89       wombat             30        29         1             97%\n",
              "90   woodpecker             30        30         0            100%\n",
              "91        zebra             30        30         0            100%\n",
              "92        total           2867      2814        53             98%\n",
              "\n",
              "[93 rows x 5 columns]"
            ],
            "text/html": [
              "\n",
              "  <div id=\"df-0880f4b8-008b-48c7-b924-88900b66b1ff\" class=\"colab-df-container\">\n",
              "    <div>\n",
              "<style scoped>\n",
              "    .dataframe tbody tr th:only-of-type {\n",
              "        vertical-align: middle;\n",
              "    }\n",
              "\n",
              "    .dataframe tbody tr th {\n",
              "        vertical-align: top;\n",
              "    }\n",
              "\n",
              "    .dataframe thead th {\n",
              "        text-align: right;\n",
              "    }\n",
              "</style>\n",
              "<table border=\"1\" class=\"dataframe\">\n",
              "  <thead>\n",
              "    <tr style=\"text-align: right;\">\n",
              "      <th></th>\n",
              "      <th>animal-class</th>\n",
              "      <th>images number</th>\n",
              "      <th>accepted</th>\n",
              "      <th>rejected</th>\n",
              "      <th>acceptance rate</th>\n",
              "    </tr>\n",
              "  </thead>\n",
              "  <tbody>\n",
              "    <tr>\n",
              "      <th>0</th>\n",
              "      <td>antelope</td>\n",
              "      <td>30</td>\n",
              "      <td>29</td>\n",
              "      <td>1</td>\n",
              "      <td>97%</td>\n",
              "    </tr>\n",
              "    <tr>\n",
              "      <th>1</th>\n",
              "      <td>badger</td>\n",
              "      <td>30</td>\n",
              "      <td>30</td>\n",
              "      <td>0</td>\n",
              "      <td>100%</td>\n",
              "    </tr>\n",
              "    <tr>\n",
              "      <th>2</th>\n",
              "      <td>bat</td>\n",
              "      <td>30</td>\n",
              "      <td>27</td>\n",
              "      <td>3</td>\n",
              "      <td>90%</td>\n",
              "    </tr>\n",
              "    <tr>\n",
              "      <th>3</th>\n",
              "      <td>bear</td>\n",
              "      <td>30</td>\n",
              "      <td>29</td>\n",
              "      <td>1</td>\n",
              "      <td>97%</td>\n",
              "    </tr>\n",
              "    <tr>\n",
              "      <th>4</th>\n",
              "      <td>bee</td>\n",
              "      <td>30</td>\n",
              "      <td>30</td>\n",
              "      <td>0</td>\n",
              "      <td>100%</td>\n",
              "    </tr>\n",
              "    <tr>\n",
              "      <th>...</th>\n",
              "      <td>...</td>\n",
              "      <td>...</td>\n",
              "      <td>...</td>\n",
              "      <td>...</td>\n",
              "      <td>...</td>\n",
              "    </tr>\n",
              "    <tr>\n",
              "      <th>88</th>\n",
              "      <td>wolf</td>\n",
              "      <td>30</td>\n",
              "      <td>30</td>\n",
              "      <td>0</td>\n",
              "      <td>100%</td>\n",
              "    </tr>\n",
              "    <tr>\n",
              "      <th>89</th>\n",
              "      <td>wombat</td>\n",
              "      <td>30</td>\n",
              "      <td>29</td>\n",
              "      <td>1</td>\n",
              "      <td>97%</td>\n",
              "    </tr>\n",
              "    <tr>\n",
              "      <th>90</th>\n",
              "      <td>woodpecker</td>\n",
              "      <td>30</td>\n",
              "      <td>30</td>\n",
              "      <td>0</td>\n",
              "      <td>100%</td>\n",
              "    </tr>\n",
              "    <tr>\n",
              "      <th>91</th>\n",
              "      <td>zebra</td>\n",
              "      <td>30</td>\n",
              "      <td>30</td>\n",
              "      <td>0</td>\n",
              "      <td>100%</td>\n",
              "    </tr>\n",
              "    <tr>\n",
              "      <th>92</th>\n",
              "      <td>total</td>\n",
              "      <td>2867</td>\n",
              "      <td>2814</td>\n",
              "      <td>53</td>\n",
              "      <td>98%</td>\n",
              "    </tr>\n",
              "  </tbody>\n",
              "</table>\n",
              "<p>93 rows × 5 columns</p>\n",
              "</div>\n",
              "    <div class=\"colab-df-buttons\">\n",
              "\n",
              "  <div class=\"colab-df-container\">\n",
              "    <button class=\"colab-df-convert\" onclick=\"convertToInteractive('df-0880f4b8-008b-48c7-b924-88900b66b1ff')\"\n",
              "            title=\"Convert this dataframe to an interactive table.\"\n",
              "            style=\"display:none;\">\n",
              "\n",
              "  <svg xmlns=\"http://www.w3.org/2000/svg\" height=\"24px\" viewBox=\"0 -960 960 960\">\n",
              "    <path d=\"M120-120v-720h720v720H120Zm60-500h600v-160H180v160Zm220 220h160v-160H400v160Zm0 220h160v-160H400v160ZM180-400h160v-160H180v160Zm440 0h160v-160H620v160ZM180-180h160v-160H180v160Zm440 0h160v-160H620v160Z\"/>\n",
              "  </svg>\n",
              "    </button>\n",
              "\n",
              "  <style>\n",
              "    .colab-df-container {\n",
              "      display:flex;\n",
              "      gap: 12px;\n",
              "    }\n",
              "\n",
              "    .colab-df-convert {\n",
              "      background-color: #E8F0FE;\n",
              "      border: none;\n",
              "      border-radius: 50%;\n",
              "      cursor: pointer;\n",
              "      display: none;\n",
              "      fill: #1967D2;\n",
              "      height: 32px;\n",
              "      padding: 0 0 0 0;\n",
              "      width: 32px;\n",
              "    }\n",
              "\n",
              "    .colab-df-convert:hover {\n",
              "      background-color: #E2EBFA;\n",
              "      box-shadow: 0px 1px 2px rgba(60, 64, 67, 0.3), 0px 1px 3px 1px rgba(60, 64, 67, 0.15);\n",
              "      fill: #174EA6;\n",
              "    }\n",
              "\n",
              "    .colab-df-buttons div {\n",
              "      margin-bottom: 4px;\n",
              "    }\n",
              "\n",
              "    [theme=dark] .colab-df-convert {\n",
              "      background-color: #3B4455;\n",
              "      fill: #D2E3FC;\n",
              "    }\n",
              "\n",
              "    [theme=dark] .colab-df-convert:hover {\n",
              "      background-color: #434B5C;\n",
              "      box-shadow: 0px 1px 3px 1px rgba(0, 0, 0, 0.15);\n",
              "      filter: drop-shadow(0px 1px 2px rgba(0, 0, 0, 0.3));\n",
              "      fill: #FFFFFF;\n",
              "    }\n",
              "  </style>\n",
              "\n",
              "    <script>\n",
              "      const buttonEl =\n",
              "        document.querySelector('#df-0880f4b8-008b-48c7-b924-88900b66b1ff button.colab-df-convert');\n",
              "      buttonEl.style.display =\n",
              "        google.colab.kernel.accessAllowed ? 'block' : 'none';\n",
              "\n",
              "      async function convertToInteractive(key) {\n",
              "        const element = document.querySelector('#df-0880f4b8-008b-48c7-b924-88900b66b1ff');\n",
              "        const dataTable =\n",
              "          await google.colab.kernel.invokeFunction('convertToInteractive',\n",
              "                                                    [key], {});\n",
              "        if (!dataTable) return;\n",
              "\n",
              "        const docLinkHtml = 'Like what you see? Visit the ' +\n",
              "          '<a target=\"_blank\" href=https://colab.research.google.com/notebooks/data_table.ipynb>data table notebook</a>'\n",
              "          + ' to learn more about interactive tables.';\n",
              "        element.innerHTML = '';\n",
              "        dataTable['output_type'] = 'display_data';\n",
              "        await google.colab.output.renderOutput(dataTable, element);\n",
              "        const docLink = document.createElement('div');\n",
              "        docLink.innerHTML = docLinkHtml;\n",
              "        element.appendChild(docLink);\n",
              "      }\n",
              "    </script>\n",
              "  </div>\n",
              "\n",
              "\n",
              "<div id=\"df-c8bb00e5-1c3b-4b91-9f9e-2e43040a961f\">\n",
              "  <button class=\"colab-df-quickchart\" onclick=\"quickchart('df-c8bb00e5-1c3b-4b91-9f9e-2e43040a961f')\"\n",
              "            title=\"Suggest charts\"\n",
              "            style=\"display:none;\">\n",
              "\n",
              "<svg xmlns=\"http://www.w3.org/2000/svg\" height=\"24px\"viewBox=\"0 0 24 24\"\n",
              "     width=\"24px\">\n",
              "    <g>\n",
              "        <path d=\"M19 3H5c-1.1 0-2 .9-2 2v14c0 1.1.9 2 2 2h14c1.1 0 2-.9 2-2V5c0-1.1-.9-2-2-2zM9 17H7v-7h2v7zm4 0h-2V7h2v10zm4 0h-2v-4h2v4z\"/>\n",
              "    </g>\n",
              "</svg>\n",
              "  </button>\n",
              "\n",
              "<style>\n",
              "  .colab-df-quickchart {\n",
              "      --bg-color: #E8F0FE;\n",
              "      --fill-color: #1967D2;\n",
              "      --hover-bg-color: #E2EBFA;\n",
              "      --hover-fill-color: #174EA6;\n",
              "      --disabled-fill-color: #AAA;\n",
              "      --disabled-bg-color: #DDD;\n",
              "  }\n",
              "\n",
              "  [theme=dark] .colab-df-quickchart {\n",
              "      --bg-color: #3B4455;\n",
              "      --fill-color: #D2E3FC;\n",
              "      --hover-bg-color: #434B5C;\n",
              "      --hover-fill-color: #FFFFFF;\n",
              "      --disabled-bg-color: #3B4455;\n",
              "      --disabled-fill-color: #666;\n",
              "  }\n",
              "\n",
              "  .colab-df-quickchart {\n",
              "    background-color: var(--bg-color);\n",
              "    border: none;\n",
              "    border-radius: 50%;\n",
              "    cursor: pointer;\n",
              "    display: none;\n",
              "    fill: var(--fill-color);\n",
              "    height: 32px;\n",
              "    padding: 0;\n",
              "    width: 32px;\n",
              "  }\n",
              "\n",
              "  .colab-df-quickchart:hover {\n",
              "    background-color: var(--hover-bg-color);\n",
              "    box-shadow: 0 1px 2px rgba(60, 64, 67, 0.3), 0 1px 3px 1px rgba(60, 64, 67, 0.15);\n",
              "    fill: var(--button-hover-fill-color);\n",
              "  }\n",
              "\n",
              "  .colab-df-quickchart-complete:disabled,\n",
              "  .colab-df-quickchart-complete:disabled:hover {\n",
              "    background-color: var(--disabled-bg-color);\n",
              "    fill: var(--disabled-fill-color);\n",
              "    box-shadow: none;\n",
              "  }\n",
              "\n",
              "  .colab-df-spinner {\n",
              "    border: 2px solid var(--fill-color);\n",
              "    border-color: transparent;\n",
              "    border-bottom-color: var(--fill-color);\n",
              "    animation:\n",
              "      spin 1s steps(1) infinite;\n",
              "  }\n",
              "\n",
              "  @keyframes spin {\n",
              "    0% {\n",
              "      border-color: transparent;\n",
              "      border-bottom-color: var(--fill-color);\n",
              "      border-left-color: var(--fill-color);\n",
              "    }\n",
              "    20% {\n",
              "      border-color: transparent;\n",
              "      border-left-color: var(--fill-color);\n",
              "      border-top-color: var(--fill-color);\n",
              "    }\n",
              "    30% {\n",
              "      border-color: transparent;\n",
              "      border-left-color: var(--fill-color);\n",
              "      border-top-color: var(--fill-color);\n",
              "      border-right-color: var(--fill-color);\n",
              "    }\n",
              "    40% {\n",
              "      border-color: transparent;\n",
              "      border-right-color: var(--fill-color);\n",
              "      border-top-color: var(--fill-color);\n",
              "    }\n",
              "    60% {\n",
              "      border-color: transparent;\n",
              "      border-right-color: var(--fill-color);\n",
              "    }\n",
              "    80% {\n",
              "      border-color: transparent;\n",
              "      border-right-color: var(--fill-color);\n",
              "      border-bottom-color: var(--fill-color);\n",
              "    }\n",
              "    90% {\n",
              "      border-color: transparent;\n",
              "      border-bottom-color: var(--fill-color);\n",
              "    }\n",
              "  }\n",
              "</style>\n",
              "\n",
              "  <script>\n",
              "    async function quickchart(key) {\n",
              "      const quickchartButtonEl =\n",
              "        document.querySelector('#' + key + ' button');\n",
              "      quickchartButtonEl.disabled = true;  // To prevent multiple clicks.\n",
              "      quickchartButtonEl.classList.add('colab-df-spinner');\n",
              "      try {\n",
              "        const charts = await google.colab.kernel.invokeFunction(\n",
              "            'suggestCharts', [key], {});\n",
              "      } catch (error) {\n",
              "        console.error('Error during call to suggestCharts:', error);\n",
              "      }\n",
              "      quickchartButtonEl.classList.remove('colab-df-spinner');\n",
              "      quickchartButtonEl.classList.add('colab-df-quickchart-complete');\n",
              "    }\n",
              "    (() => {\n",
              "      let quickchartButtonEl =\n",
              "        document.querySelector('#df-c8bb00e5-1c3b-4b91-9f9e-2e43040a961f button');\n",
              "      quickchartButtonEl.style.display =\n",
              "        google.colab.kernel.accessAllowed ? 'block' : 'none';\n",
              "    })();\n",
              "  </script>\n",
              "</div>\n",
              "    </div>\n",
              "  </div>\n"
            ]
          },
          "metadata": {},
          "execution_count": 92
        }
      ]
    },
    {
      "cell_type": "markdown",
      "source": [
        "By analyzing this table we can see that the model achieved good results on all classes of animals. Even with difficult classes (red fox, red cat, red dog, ...) it performs well. The total accuracy of the model is 98%."
      ],
      "metadata": {
        "id": "5Agzz1f35mMh"
      }
    }
  ]
}